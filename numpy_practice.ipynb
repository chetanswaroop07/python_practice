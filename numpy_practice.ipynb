{
 "cells": [
  {
   "cell_type": "markdown",
   "metadata": {},
   "source": [
    "#### Introduction to Numpy"
   ]
  },
  {
   "cell_type": "code",
   "execution_count": 1,
   "metadata": {},
   "outputs": [],
   "source": [
    "import numpy as np"
   ]
  },
  {
   "cell_type": "code",
   "execution_count": 3,
   "metadata": {},
   "outputs": [
    {
     "name": "stdout",
     "output_type": "stream",
     "text": [
      "[1 2 3 4 5 6 7 8]\n",
      "<class 'numpy.ndarray'>\n"
     ]
    }
   ],
   "source": [
    "# Creating a numpy array from a list\n",
    "list1 = [1,2,3,4,5,6,7,8]\n",
    "\n",
    "a = np.array(list1)\n",
    "print(a)\n",
    "print(type(a))"
   ]
  },
  {
   "cell_type": "code",
   "execution_count": 4,
   "metadata": {},
   "outputs": [
    {
     "name": "stdout",
     "output_type": "stream",
     "text": [
      "[[1 2 3]\n",
      " [4 5 6]\n",
      " [7 8 9]]\n",
      "<class 'numpy.ndarray'>\n",
      "(3, 3)\n"
     ]
    }
   ],
   "source": [
    "# Creating 2D arrays using lists\n",
    "b = np.array([[1,2,3], [4,5,6], [7,8,9]])\n",
    "print(b)\n",
    "print(type(b))\n",
    "print(b.shape)"
   ]
  },
  {
   "cell_type": "code",
   "execution_count": 5,
   "metadata": {},
   "outputs": [
    {
     "name": "stdout",
     "output_type": "stream",
     "text": [
      "[[[ 1  2  3]\n",
      "  [ 4  5  6]\n",
      "  [ 7  8  9]]\n",
      "\n",
      " [[11 21 31]\n",
      "  [41 51 61]\n",
      "  [71 81 91]]\n",
      "\n",
      " [[12 22 32]\n",
      "  [42 52 62]\n",
      "  [72 82 92]]]\n",
      "<class 'numpy.ndarray'>\n",
      "(3, 3, 3)\n"
     ]
    }
   ],
   "source": [
    "# Creating 3D arrays using lists\n",
    "c = np.array([[[1,2,3], [4,5,6], [7,8,9]], [[11,21,31], [41,51,61], [71,81,91]], [[12,22,32], [42,52,62], [72,82,92]]])\n",
    "print(c)\n",
    "print(type(c))\n",
    "print(c.shape)"
   ]
  },
  {
   "cell_type": "code",
   "execution_count": 10,
   "metadata": {},
   "outputs": [
    {
     "name": "stdout",
     "output_type": "stream",
     "text": [
      "[ 0  2  4  6  8 10 12 14 16 18 20 22 24 26 28]\n",
      "<class 'numpy.ndarray'>\n",
      "(15,)\n",
      "[[ 0  2  4]\n",
      " [ 6  8 10]\n",
      " [12 14 16]\n",
      " [18 20 22]\n",
      " [24 26 28]]\n"
     ]
    }
   ],
   "source": [
    "# Creating a list using arange method\n",
    "\n",
    "d = np.arange(0, 30, 2)\n",
    "print(d)\n",
    "print(type(d))\n",
    "print(d.shape)\n",
    "\n",
    "# Converting this array into a matrix\n",
    "e = d.reshape(5,3)\n",
    "print(e)"
   ]
  },
  {
   "cell_type": "code",
   "execution_count": 14,
   "metadata": {},
   "outputs": [
    {
     "name": "stdout",
     "output_type": "stream",
     "text": [
      "[0.         0.66666667 1.33333333 2.         2.66666667 3.33333333\n",
      " 4.         4.66666667 5.33333333 6.        ]\n",
      "<class 'numpy.ndarray'>\n",
      "(10,)\n"
     ]
    }
   ],
   "source": [
    "# Creating a list using linspace method -- linspace includes both the start and end values\n",
    "f = np.linspace(0,6,10)\n",
    "print(f)\n",
    "print(type(f))\n",
    "print(f.shape)"
   ]
  },
  {
   "cell_type": "code",
   "execution_count": 25,
   "metadata": {},
   "outputs": [
    {
     "name": "stdout",
     "output_type": "stream",
     "text": [
      "[ 0.          1.02040816  2.04081633  3.06122449  4.08163265  5.10204082\n",
      "  6.12244898  7.14285714  8.16326531  9.18367347 10.20408163 11.2244898\n",
      " 12.24489796 13.26530612 14.28571429 15.30612245 16.32653061 17.34693878\n",
      " 18.36734694 19.3877551  20.40816327 21.42857143 22.44897959 23.46938776\n",
      " 24.48979592 25.51020408 26.53061224 27.55102041 28.57142857 29.59183673\n",
      " 30.6122449  31.63265306 32.65306122 33.67346939 34.69387755 35.71428571\n",
      " 36.73469388 37.75510204 38.7755102  39.79591837 40.81632653 41.83673469\n",
      " 42.85714286 43.87755102 44.89795918 45.91836735 46.93877551 47.95918367\n",
      " 48.97959184 50.        ]\n",
      "<class 'numpy.ndarray'>\n",
      "(50,)\n",
      "50\n"
     ]
    }
   ],
   "source": [
    "# If the number of values in linspace is not defined, the deault number of values is 50. \n",
    "# The elements in the array range from (upper_value * 0)/(n-1), (upper_value*1)/(n-1),....(upper_value * (n-1))/(n-1)\n",
    "g = np.linspace(0, 50)\n",
    "print(g)\n",
    "print(type(g))\n",
    "print(g.shape)\n",
    "print(len(g))"
   ]
  },
  {
   "cell_type": "code",
   "execution_count": 24,
   "metadata": {},
   "outputs": [
    {
     "name": "stdout",
     "output_type": "stream",
     "text": [
      "[0.         0.66666667 1.33333333 2.        ]\n"
     ]
    }
   ],
   "source": [
    "h=np.linspace(0,2,4)\n",
    "print(h)"
   ]
  },
  {
   "cell_type": "code",
   "execution_count": 28,
   "metadata": {},
   "outputs": [
    {
     "name": "stdout",
     "output_type": "stream",
     "text": [
      "1\n",
      "1\n",
      "1\n",
      "1\n"
     ]
    }
   ],
   "source": [
    "# Get the dimensions of the array\n",
    "print(a.ndim)\n",
    "print(b.ndim)\n",
    "print(c.ndim)\n",
    "print(d.ndim)"
   ]
  },
  {
   "cell_type": "code",
   "execution_count": 29,
   "metadata": {},
   "outputs": [
    {
     "name": "stdout",
     "output_type": "stream",
     "text": [
      "int64\n",
      "int64\n",
      "float64\n",
      "float64\n"
     ]
    }
   ],
   "source": [
    "# Get the type of data stored in the array\n",
    "print(a.dtype)\n",
    "print(d.dtype)\n",
    "print(f.dtype)\n",
    "print(h.dtype)"
   ]
  },
  {
   "cell_type": "code",
   "execution_count": 31,
   "metadata": {},
   "outputs": [
    {
     "name": "stdout",
     "output_type": "stream",
     "text": [
      "Number of elements are:  10\n",
      "Number of bytes occupied:  80\n",
      "Number of bytes occupied by each element:  8\n"
     ]
    }
   ],
   "source": [
    "# Get the size of the array\n",
    "print(\"Number of elements are: \", f.size)\n",
    "print(\"Number of bytes occupied: \", f.nbytes)\n",
    "print(\"Number of bytes occupied by each element: \", f.itemsize)"
   ]
  },
  {
   "cell_type": "code",
   "execution_count": 34,
   "metadata": {},
   "outputs": [
    {
     "name": "stdout",
     "output_type": "stream",
     "text": [
      "[[0. 0.]\n",
      " [0. 0.]\n",
      " [0. 0.]]\n",
      "<class 'numpy.ndarray'>\n",
      "float64\n"
     ]
    }
   ],
   "source": [
    "# Using special methods to create arrays\n",
    "\n",
    "h = np.zeros([3,2])\n",
    "print(h)\n",
    "print(type(h))\n",
    "print(h.dtype)"
   ]
  },
  {
   "cell_type": "code",
   "execution_count": 42,
   "metadata": {},
   "outputs": [
    {
     "name": "stdout",
     "output_type": "stream",
     "text": [
      "[[1. 1. 1. 1.]\n",
      " [1. 1. 1. 1.]\n",
      " [1. 1. 1. 1.]\n",
      " [1. 1. 1. 1.]]\n",
      "<class 'numpy.ndarray'>\n",
      "float64\n",
      "(4, 4)\n"
     ]
    }
   ],
   "source": [
    "i = np.ones([4,4])\n",
    "print(i)\n",
    "print(type(i))\n",
    "print(i.dtype)\n",
    "print(i.shape)"
   ]
  },
  {
   "cell_type": "code",
   "execution_count": 39,
   "metadata": {},
   "outputs": [
    {
     "name": "stdout",
     "output_type": "stream",
     "text": [
      "[[1. 0. 0.]\n",
      " [0. 1. 0.]\n",
      " [0. 0. 1.]]\n",
      "<class 'numpy.ndarray'>\n",
      "(3, 3)\n"
     ]
    }
   ],
   "source": [
    "j = np.eye(3)\n",
    "print(j)\n",
    "print(type(j))\n",
    "print(j.shape)"
   ]
  },
  {
   "cell_type": "code",
   "execution_count": 40,
   "metadata": {},
   "outputs": [
    {
     "name": "stdout",
     "output_type": "stream",
     "text": [
      "[[5 5 5]\n",
      " [5 5 5]\n",
      " [5 5 5]]\n",
      "<class 'numpy.ndarray'>\n",
      "(3, 3)\n"
     ]
    }
   ],
   "source": [
    "# Using full method to create an array -- Need to include the shape of the array/matrix and the element to fill in\n",
    "k = np.full([3,3], 5)\n",
    "print(k)\n",
    "print(type(k))\n",
    "print(k.shape)"
   ]
  },
  {
   "cell_type": "code",
   "execution_count": 41,
   "metadata": {},
   "outputs": [
    {
     "name": "stdout",
     "output_type": "stream",
     "text": [
      "[[2.1 2.1 2.1 2.1]\n",
      " [2.1 2.1 2.1 2.1]\n",
      " [2.1 2.1 2.1 2.1]\n",
      " [2.1 2.1 2.1 2.1]]\n",
      "<class 'numpy.ndarray'>\n",
      "(4, 4)\n"
     ]
    }
   ],
   "source": [
    "# Using full_like to create an array -- Need to include an existing matrix and the value to fill in\n",
    "l = np.full_like(i, 2.1)\n",
    "print(l)\n",
    "print(type(l))\n",
    "print(l.shape)"
   ]
  },
  {
   "cell_type": "code",
   "execution_count": 43,
   "metadata": {},
   "outputs": [
    {
     "name": "stdout",
     "output_type": "stream",
     "text": [
      "[[0.26950335 0.69295387]\n",
      " [0.05860459 0.66118073]\n",
      " [0.18201874 0.15048587]\n",
      " [0.22200297 0.37164512]]\n",
      "<class 'numpy.ndarray'>\n",
      "(4, 2)\n"
     ]
    }
   ],
   "source": [
    "# Generating an array from random data\n",
    "m = np.random.rand(4,2) # Generates a unifrom random distribution between 0 and 1 with mean 0.5\n",
    "print(m)\n",
    "print(type(m))\n",
    "print(m.shape)"
   ]
  },
  {
   "cell_type": "code",
   "execution_count": 45,
   "metadata": {},
   "outputs": [
    {
     "name": "stdout",
     "output_type": "stream",
     "text": [
      "[[1 5 5 5]\n",
      " [4 5 9 8]]\n",
      "<class 'numpy.ndarray'>\n",
      "(2, 4)\n"
     ]
    }
   ],
   "source": [
    "n = np.random.randint(0, 10, size=(2,4)) # Generates a random integer between 0 and 10  \n",
    "print(n)\n",
    "print(type(n))\n",
    "print(n.shape)"
   ]
  },
  {
   "cell_type": "code",
   "execution_count": 63,
   "metadata": {},
   "outputs": [
    {
     "name": "stdout",
     "output_type": "stream",
     "text": [
      "[[-1.12779439  0.07770769 -0.1270936 ]\n",
      " [-0.28744075 -1.01919001 -0.09367824]]\n",
      "<class 'numpy.ndarray'>\n",
      "(2, 3)\n"
     ]
    }
   ],
   "source": [
    "o = np.random.randn(2,3) # Generates a normal distribution with mean 0 and standard deviation 1\n",
    "print(o)\n",
    "print(type(o))\n",
    "print(o.shape)"
   ]
  },
  {
   "cell_type": "code",
   "execution_count": null,
   "metadata": {},
   "outputs": [],
   "source": []
  },
  {
   "cell_type": "code",
   "execution_count": null,
   "metadata": {},
   "outputs": [],
   "source": []
  }
 ],
 "metadata": {
  "kernelspec": {
   "display_name": "myenv",
   "language": "python",
   "name": "python3"
  },
  "language_info": {
   "codemirror_mode": {
    "name": "ipython",
    "version": 3
   },
   "file_extension": ".py",
   "mimetype": "text/x-python",
   "name": "python",
   "nbconvert_exporter": "python",
   "pygments_lexer": "ipython3",
   "version": "3.12.7"
  }
 },
 "nbformat": 4,
 "nbformat_minor": 2
}
